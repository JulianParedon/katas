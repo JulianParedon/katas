{
 "cells": [
  {
   "cell_type": "code",
   "execution_count": 2,
   "metadata": {},
   "outputs": [
    {
     "name": "stdout",
     "output_type": "stream",
     "text": [
      "8\n",
      "Pluto\n"
     ]
    }
   ],
   "source": [
    "planets=['mercury', 'venus', 'earth', 'mars', 'jupiter', 'saturn','uranus','neptune' ]\n",
    "print(len(planets))\n",
    "planets.append('pluton')\n",
    "print(planets[-1])"
   ]
  },
  {
   "cell_type": "code",
   "execution_count": 6,
   "metadata": {},
   "outputs": [
    {
     "name": "stdout",
     "output_type": "stream",
     "text": [
      "Los planetas mas cercanos al sol que  Earth  son:  ['Mercury', 'Venus']\n",
      "Los planetas mas lejanos al sol que  Earth  son:  ['Mars', 'Jupiter', 'Saturn', 'Neptune']\n"
     ]
    }
   ],
   "source": [
    "planets = ['Mercury', 'Venus', 'Earth', 'Mars', 'Jupiter', 'Saturn', 'Neptune']\n",
    "planetan=input(\"Introduce el nombre de un planeta con la primer letra en mayus\")\n",
    "indice=planets.index(planetan)\n",
    "otrosp=planets[0:indice];\n",
    "otrospa=planets[indice+1:8];\n",
    "print(\"Los planetas mas cercanos al sol que \",planetan,\" son: \",otrosp)\n",
    "print(\"Los planetas mas lejanos al sol que \",planetan,\" son: \",otrospa)"
   ]
  }
 ],
 "metadata": {
  "interpreter": {
   "hash": "375275b912c9c9ed5b54f48a1d2e1b8550d2ca0815c36d386ba8bc6cec53a414"
  },
  "kernelspec": {
   "display_name": "Python 3.10.2 64-bit (windows store)",
   "language": "python",
   "name": "python3"
  },
  "language_info": {
   "codemirror_mode": {
    "name": "ipython",
    "version": 3
   },
   "file_extension": ".py",
   "mimetype": "text/x-python",
   "name": "python",
   "nbconvert_exporter": "python",
   "pygments_lexer": "ipython3",
   "version": "3.10.2"
  },
  "orig_nbformat": 4
 },
 "nbformat": 4,
 "nbformat_minor": 2
}
