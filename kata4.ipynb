{
 "cells": [
  {
   "cell_type": "code",
   "execution_count": 28,
   "metadata": {},
   "outputs": [],
   "source": [
    "text = \"\"\"Interesting facts about the Moon. The Moon is Earth's only satellite. There are several interesting facts about the Moon and how it affects life here on Earth. \n",
    "On average, the Moon moves 4cm away from the Earth every year. This yearly drift is not significant enough to cause immediate effects on Earth. The highest daylight temperature of the Moon is 127 C.\"\"\"\n",
    "fulltext=text.split(\".\")\n"
   ]
  },
  {
   "cell_type": "code",
   "execution_count": 3,
   "metadata": {},
   "outputs": [
    {
     "name": "stdout",
     "output_type": "stream",
     "text": [
      "Planet: Earth\n",
      "Gravity of Moon: 0.00162\n",
      "Planet: Mars\n",
      "Gravity of Ganimedes: 0.00143\n"
     ]
    }
   ],
   "source": [
    "# Datos con los que vas a trabajar\n",
    "name = \"Moon\"\n",
    "gravity = 0.00162 # in kms\n",
    "planet = \"Earth\"\n",
    "title=f\"interesting facts about gravity on {planet} and the {name}\".title()\n",
    "\n",
    "template=f\"\"\"Planet: {planet}\n",
    "Gravity of {name}: {gravity}\"\"\"\n",
    "output= f\"\"\"{title} \n",
    "{template}\"\"\"\n",
    "\n",
    "#Datos muestra:\n",
    "#planeta = 'Marte '\n",
    "#gravedad  = 0.00143\n",
    "#nombre = 'Ganímedes'\n",
    "planet='Mars'\n",
    "gravity=0.00143\n",
    "name=\"Ganimedes\"\n",
    "# Comprueba la plantilla\n",
    "print(template)\n",
    "templateNew=f\"\"\"Planet: {planet}\n",
    "Gravity of {name}: {gravity}\"\"\"\n",
    "print(templateNew.format(name=name, planet=planet, gravity=gravity*1000))\n"
   ]
  }
 ],
 "metadata": {
  "interpreter": {
   "hash": "375275b912c9c9ed5b54f48a1d2e1b8550d2ca0815c36d386ba8bc6cec53a414"
  },
  "kernelspec": {
   "display_name": "Python 3.10.2 64-bit (windows store)",
   "language": "python",
   "name": "python3"
  },
  "language_info": {
   "codemirror_mode": {
    "name": "ipython",
    "version": 3
   },
   "file_extension": ".py",
   "mimetype": "text/x-python",
   "name": "python",
   "nbconvert_exporter": "python",
   "pygments_lexer": "ipython3",
   "version": "3.10.2"
  },
  "orig_nbformat": 4
 },
 "nbformat": 4,
 "nbformat_minor": 2
}
