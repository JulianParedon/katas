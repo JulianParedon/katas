{
 "cells": [
  {
   "cell_type": "code",
   "execution_count": 2,
   "metadata": {},
   "outputs": [
    {
     "name": "stdout",
     "output_type": "stream",
     "text": [
      "628949330\n",
      "390577533.93\n"
     ]
    }
   ],
   "source": [
    "tierra=149597870\n",
    "jupiter=778547200\n",
    "distanciakm=tierra-jupiter\n",
    "distanciami=distanciakm*0.621\n",
    "print(abs(distanciakm))\n",
    "print(abs(distanciami))"
   ]
  },
  {
   "cell_type": "code",
   "execution_count": 8,
   "metadata": {},
   "outputs": [
    {
     "name": "stdout",
     "output_type": "stream",
     "text": [
      "Distancia en km: 1\n",
      "Distancia en mi: 0.6219\n"
     ]
    }
   ],
   "source": [
    "firstp= input(\"Ingresa la distancia para el primer planeta\")\n",
    "secondp= input(\"Ingresa la distancia para el segundo planeta\")\n",
    "distancia= abs(int(firstp)- int(secondp))\n",
    "print(\"Distancia en km: {}\".format(distancia))\n",
    "print(\"Distancia en mi: {}\".format(distancia*0.6219))"
   ]
  }
 ],
 "metadata": {
  "interpreter": {
   "hash": "375275b912c9c9ed5b54f48a1d2e1b8550d2ca0815c36d386ba8bc6cec53a414"
  },
  "kernelspec": {
   "display_name": "Python 3.10.2 64-bit (windows store)",
   "language": "python",
   "name": "python3"
  },
  "language_info": {
   "codemirror_mode": {
    "name": "ipython",
    "version": 3
   },
   "file_extension": ".py",
   "mimetype": "text/x-python",
   "name": "python",
   "nbconvert_exporter": "python",
   "pygments_lexer": "ipython3",
   "version": "3.10.2"
  },
  "orig_nbformat": 4
 },
 "nbformat": 4,
 "nbformat_minor": 2
}
